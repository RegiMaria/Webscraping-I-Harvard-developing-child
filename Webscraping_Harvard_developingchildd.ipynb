{
 "cells": [
  {
   "cell_type": "code",
   "execution_count": 1,
   "id": "8003ccfc-d0a5-4a5c-86f8-4403de019877",
   "metadata": {
    "tags": []
   },
   "outputs": [],
   "source": [
    "from bs4 import BeautifulSoup as bs\n",
    "import requests as rq\n",
    "import random\n",
    "import time\n",
    "time.sleep(5)"
   ]
  },
  {
   "cell_type": "code",
   "execution_count": 2,
   "id": "92dd4bfe-3fd6-4e0e-9ef7-71a3346dfd51",
   "metadata": {
    "tags": []
   },
   "outputs": [],
   "source": [
    "User_Agent= ['Mozilla/5.0' '(Windows NT 10.0; Win64; x64)', 'AppleWebKit/537.36', '(KHTML, like Gecko)', 'Chrome/120.0.0.0', 'Safari/537.36']"
   ]
  },
  {
   "cell_type": "code",
   "execution_count": 3,
   "id": "8c4d88ca-7153-48fc-9e5d-8059e109d0e6",
   "metadata": {
    "tags": []
   },
   "outputs": [],
   "source": [
    "HEADERS = {\n",
    "    'User-Agent': random.choice(User_Agent),\n",
    "    'Accept-Language': 'en-US, en;q=0.5'\n",
    "}"
   ]
  },
  {
   "cell_type": "code",
   "execution_count": null,
   "id": "0708aefe-b097-4d84-bf77-911dd54f002c",
   "metadata": {
    "tags": []
   },
   "outputs": [],
   "source": [
    "session = rq.Session()\n",
    "\n",
    "URL = \"https://developingchild.harvard.edu/resources/brainbuildingthroughplay/\"\n",
    "html_completo = session.get(URL, headers=HEADERS)\n",
    "\n",
    "html_formatado = bs(html_completo.content, \"html.parser\")\n",
    "print(html_formatado.prettify())"
   ]
  },
  {
   "cell_type": "code",
   "execution_count": 5,
   "id": "a0ee974b-27b6-4871-9981-68f832477f4c",
   "metadata": {
    "tags": []
   },
   "outputs": [],
   "source": [
    "#Extract page title"
   ]
  },
  {
   "cell_type": "code",
   "execution_count": 7,
   "id": "1db9c21e-8515-40cc-9fae-5f03853af4f6",
   "metadata": {
    "tags": []
   },
   "outputs": [
    {
     "name": "stdout",
     "output_type": "stream",
     "text": [
      "Brain-Building Through Play: Activities for Infants, Toddlers and Children\n"
     ]
    }
   ],
   "source": [
    "page_title=html_formatado.find(class_=\"page-title\").text\n",
    "print(page_title)"
   ]
  },
  {
   "cell_type": "code",
   "execution_count": 8,
   "id": "5d50db50-6db6-40e0-af26-99a7b799060e",
   "metadata": {
    "tags": []
   },
   "outputs": [],
   "source": [
    "#Extract title tag <h3>:"
   ]
  },
  {
   "cell_type": "code",
   "execution_count": 9,
   "id": "9cf90c65-5dc6-487f-b4db-a07d42baa757",
   "metadata": {
    "tags": []
   },
   "outputs": [
    {
     "name": "stdout",
     "output_type": "stream",
     "text": [
      "6 Games to Play with Babies (6 months)\n"
     ]
    }
   ],
   "source": [
    "title_h3=html_formatado.find(\"h3\").text\n",
    "print(title_h3)"
   ]
  },
  {
   "cell_type": "code",
   "execution_count": 7,
   "id": "21b00ed4-03fe-4833-85a1-15e159831c79",
   "metadata": {
    "tags": []
   },
   "outputs": [],
   "source": [
    "#Button pdf link:"
   ]
  },
  {
   "cell_type": "code",
   "execution_count": 10,
   "id": "707157bc-c9f0-47b5-b8c0-4ed74824abb0",
   "metadata": {
    "tags": []
   },
   "outputs": [
    {
     "name": "stdout",
     "output_type": "stream",
     "text": [
      "https://harvardcenter.wpenginepowered.com/wp-content/uploads/2022/12/HCDC_EF-Play_handout_6_months_FINAL.pdf\n"
     ]
    }
   ],
   "source": [
    "Button_pdf_ahref= html_formatado.find(class_=\"button arrow outline-light\")\n",
    "print(Button_pdf_ahref[\"href\"])"
   ]
  },
  {
   "cell_type": "code",
   "execution_count": 11,
   "id": "cffc227e-f901-4bb1-b234-83365032e9d5",
   "metadata": {},
   "outputs": [],
   "source": [
    "#Extract all pdf links:"
   ]
  },
  {
   "cell_type": "code",
   "execution_count": 12,
   "id": "01376944-83a5-461a-831b-e30d4b9a133b",
   "metadata": {
    "tags": []
   },
   "outputs": [
    {
     "name": "stdout",
     "output_type": "stream",
     "text": [
      "https://harvardcenter.wpenginepowered.com/wp-content/uploads/2022/12/HCDC_EF-Play_handout_6_months_FINAL.pdf\n",
      "https://harvardcenter.wpenginepowered.com/wp-content/uploads/2022/12/HCDC_EF-Play_handout_9_months_FINAL.pdf\n",
      "https://harvardcenter.wpenginepowered.com/wp-content/uploads/2022/12/5-Games-to-Play-with-Toddlers_12_months.pdf\n",
      "https://harvardcenter.wpenginepowered.com/wp-content/uploads/2022/12/5-Games-to-Play-with-Toddlers_18_months.pdf\n",
      "https://harvardcenter.wpenginepowered.com/wp-content/uploads/2022/12/6-Games-to-Play-with-Toddlers_2-3_years.pdf\n",
      "https://harvardcenter.wpenginepowered.com/wp-content/uploads/2022/12/5-Games-Activities-for-Children-4-7-years.pdf\n",
      "https://harvardcenter.wpenginepowered.com/wp-content/uploads/2022/12/6-Playful-Activities-for-Kids-8-12-years.pdf\n",
      "https://harvardcenter.wpenginepowered.com/wp-content/uploads/2022/12/6-Playful-Activities-for-Teens-13-17-years.pdf\n"
     ]
    }
   ],
   "source": [
    "links_button_pdf = html_formatado.find_all('a', class_='button arrow outline-light')\n",
    "\n",
    "# Iterates through the occurrences and prints the links:\n",
    "for link_button_pdf in links_button_pdf:\n",
    "    print(link_button_pdf['href'])"
   ]
  },
  {
   "cell_type": "code",
   "execution_count": 40,
   "id": "8ba1d240-be44-41e2-9184-7506fbdd5dc2",
   "metadata": {
    "tags": []
   },
   "outputs": [],
   "source": [
    "#All the tag <h3>:"
   ]
  },
  {
   "cell_type": "code",
   "execution_count": 13,
   "id": "9d98552c-c367-4812-b5b9-013f65272789",
   "metadata": {
    "tags": []
   },
   "outputs": [
    {
     "name": "stdout",
     "output_type": "stream",
     "text": [
      "6 Games to Play with Babies (6 months)\n",
      "5 Games to Play with Babies (9 months)\n",
      "5 Games to Play with Toddlers (12 months)\n",
      "5 Games to Play with Toddlers (18 months)\n",
      "6 Games to Play with Toddlers (2-3 years)\n",
      "5 Games and Activities for Children (4-7 years) \n",
      "Games and Activities for Children (8-12 years)\n",
      "6 Playful Activities for Teens (13-17 years)\n",
      "Related Topics: \n",
      "brain architecture, executive function, play \n"
     ]
    }
   ],
   "source": [
    "todas_ocorrencias_h3=html_formatado.find_all([\"h3\"])\n",
    "for ocorrencias_h3 in todas_ocorrencias_h3:\n",
    "    print(ocorrencias_h3.text)"
   ]
  },
  {
   "cell_type": "code",
   "execution_count": 14,
   "id": "3a50b92b-0b07-49cf-a99e-73995b76b621",
   "metadata": {
    "tags": []
   },
   "outputs": [],
   "source": [
    "#Extract all images:\n",
    "# Locates all divs with the class \"card-content clearfix\"\n",
    "# Within each of these divs, finds all images (img)\n",
    "# Prints the associated URLs"
   ]
  },
  {
   "cell_type": "code",
   "execution_count": 15,
   "id": "b777e75e-0544-46fd-a65a-f0af3371b2d6",
   "metadata": {
    "tags": []
   },
   "outputs": [
    {
     "name": "stdout",
     "output_type": "stream",
     "text": [
      "https://harvardcenter.wpenginepowered.com/wp-content/uploads/2022/12/Screen-Shot-2022-12-08-at-3.00.42-PM.png\n",
      "https://harvardcenter.wpenginepowered.com/wp-content/uploads/2022/12/Screen-Shot-2022-12-08-at-3.06.02-PM.png\n",
      "https://harvardcenter.wpenginepowered.com/wp-content/uploads/2022/12/Screen-Shot-2022-12-08-at-3.12.35-PM.png\n",
      "https://harvardcenter.wpenginepowered.com/wp-content/uploads/2022/12/Screen-Shot-2022-12-08-at-5.30.35-PM.png\n",
      "https://harvardcenter.wpenginepowered.com/wp-content/uploads/2022/12/Screen-Shot-2022-12-08-at-5.35.51-PM.png\n",
      "https://harvardcenter.wpenginepowered.com/wp-content/uploads/2022/12/Screen-Shot-2023-02-16-at-9.15.11-AM.png\n",
      "https://harvardcenter.wpenginepowered.com/wp-content/uploads/2022/12/Screen-Shot-2023-02-16-at-9.17.10-AM.png\n",
      "https://harvardcenter.wpenginepowered.com/wp-content/uploads/2022/12/Screen-Shot-2023-02-16-at-4.11.51-PM.png\n"
     ]
    }
   ],
   "source": [
    "divs_card_content = html_formatado.find_all('div', class_='card-content clearfix')\n",
    "\n",
    "for div_card_content in divs_card_content:\n",
    "    imgs = div_card_content.find_all('img')\n",
    "    for img in imgs:\n",
    "        print(img['src'])"
   ]
  },
  {
   "cell_type": "code",
   "execution_count": 12,
   "id": "52727f35-82a2-43b4-bf3d-bcfdc840fc75",
   "metadata": {},
   "outputs": [],
   "source": [
    "#Extract text tag <p></>:"
   ]
  },
  {
   "cell_type": "code",
   "execution_count": 17,
   "id": "615b1810-8466-4509-b9d3-6cf1141f6983",
   "metadata": {
    "tags": []
   },
   "outputs": [
    {
     "name": "stdout",
     "output_type": "stream",
     "text": [
      "From infancy on, play is an important part of a child’s life. For babies and toddlers, simple, playful interactions with adults help develop sturdybrain architecture, thefoundations of lifelong health, and the building blocks ofresilience. Through games and playful activities, children can practice and strengthen importantexecutive functionskills that will help them throughout their lives, including learning to focus their attention, strengthening their working memory, and developing basic self-control. The following handout series, developed with support from the LEGO Foundation, provides suggestions for games and play-based activities based on a child’s age. The activities for younger children are designed for adults to engage in with children. Activities for later ages allow the adults to step back, enabling children’s independence to blossom as they transition to playing more often with peers.\n"
     ]
    }
   ],
   "source": [
    "# Find tag <p> with atribute style=\"font-size: 18px;\"\n",
    "p_tag = html_formatado.find('p', style='font-size: 18px;')\n",
    "\n",
    "# Extract text:\n",
    "paragrafo_p= p_tag.get_text(strip=True) if p_tag else \"Texto não encontrado.\"\n",
    "\n",
    "print(paragrafo_p)"
   ]
  },
  {
   "cell_type": "code",
   "execution_count": null,
   "id": "65bf1823-5275-4c56-80b8-9eec504aab94",
   "metadata": {},
   "outputs": [],
   "source": []
  }
 ],
 "metadata": {
  "kernelspec": {
   "display_name": "Python 3 (ipykernel)",
   "language": "python",
   "name": "python3"
  },
  "language_info": {
   "codemirror_mode": {
    "name": "ipython",
    "version": 3
   },
   "file_extension": ".py",
   "mimetype": "text/x-python",
   "name": "python",
   "nbconvert_exporter": "python",
   "pygments_lexer": "ipython3",
   "version": "3.11.5"
  }
 },
 "nbformat": 4,
 "nbformat_minor": 5
}
